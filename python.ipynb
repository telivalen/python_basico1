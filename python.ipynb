{
 "cells": [
  {
   "cell_type": "code",
   "execution_count": null,
   "metadata": {},
   "outputs": [],
   "source": []
  },
  {
   "cell_type": "code",
   "execution_count": null,
   "metadata": {},
   "outputs": [],
   "source": []
  },
  {
   "cell_type": "code",
   "execution_count": 11,
   "metadata": {},
   "outputs": [
    {
     "name": "stdout",
     "output_type": "stream",
     "text": [
      "30\n"
     ]
    }
   ],
   "source": [
    "number_1 = 10\n",
    "number_2 = 20\n",
    "\n",
    "# sumar dos numeros\n",
    "\n",
    "total = number_1 + number_2\n",
    "\n",
    "print(total)"
   ]
  },
  {
   "cell_type": "code",
   "execution_count": 12,
   "metadata": {},
   "outputs": [
    {
     "name": "stdout",
     "output_type": "stream",
     "text": [
      "El resultado total es: 30\n"
     ]
    }
   ],
   "source": [
    "print(f\"El resultado total es: {total}\")"
   ]
  },
  {
   "cell_type": "code",
   "execution_count": 14,
   "metadata": {},
   "outputs": [],
   "source": [
    "number_1 = input(\"Ingrese numero 1:\")\n",
    "number_2 = input(\"Ingrese numero 2:\")\n",
    "\n",
    "total_2 = number_1 + number_2"
   ]
  },
  {
   "cell_type": "code",
   "execution_count": 15,
   "metadata": {},
   "outputs": [
    {
     "name": "stdout",
     "output_type": "stream",
     "text": [
      "1210\n"
     ]
    }
   ],
   "source": [
    "print(total_2)"
   ]
  },
  {
   "cell_type": "code",
   "execution_count": 16,
   "metadata": {},
   "outputs": [
    {
     "name": "stdout",
     "output_type": "stream",
     "text": [
      "6\n"
     ]
    }
   ],
   "source": [
    "number_1 = input(\"Ingrese numero 1:\")\n",
    "number_1 = int(number_1)\n",
    "\n",
    "number_2 = input(\"Ingrese numero 2:\")\n",
    "number_2 = int(number_2)\n",
    "\n",
    "total_2 = number_1 + number_2\n",
    "\n",
    "print(total_2)"
   ]
  },
  {
   "cell_type": "code",
   "execution_count": 19,
   "metadata": {},
   "outputs": [
    {
     "name": "stdout",
     "output_type": "stream",
     "text": [
      "2.2\n"
     ]
    }
   ],
   "source": [
    "number_1 = input(\"Ingrese numero 1:\")\n",
    "number_1 = int(number_1)\n",
    "\n",
    "number_2 = float( input(\"Ingrese numero 2:\") )\n",
    "\n",
    "\n",
    "total_2 = number_1 + number_2\n",
    "\n",
    "print(total_2)"
   ]
  },
  {
   "cell_type": "markdown",
   "metadata": {},
   "source": [
    "#### operadores de comparacion\n",
    "* \">\"  \n",
    "* \"<\" \n",
    "* \">=\" \n",
    "* \"<=\" \n",
    "* \"==\"\n",
    "* \"!=\"\n",
    "\n"
   ]
  },
  {
   "cell_type": "code",
   "execution_count": 20,
   "metadata": {},
   "outputs": [
    {
     "data": {
      "text/plain": [
       "True"
      ]
     },
     "execution_count": 20,
     "metadata": {},
     "output_type": "execute_result"
    }
   ],
   "source": [
    "1<2"
   ]
  },
  {
   "cell_type": "code",
   "execution_count": 21,
   "metadata": {},
   "outputs": [
    {
     "data": {
      "text/plain": [
       "True"
      ]
     },
     "execution_count": 21,
     "metadata": {},
     "output_type": "execute_result"
    }
   ],
   "source": [
    "number_1 != number_2"
   ]
  },
  {
   "cell_type": "code",
   "execution_count": 22,
   "metadata": {},
   "outputs": [
    {
     "name": "stdout",
     "output_type": "stream",
     "text": [
      "1\n",
      "1.2\n"
     ]
    }
   ],
   "source": [
    "print (number_1)\n",
    "print (number_2)\n"
   ]
  },
  {
   "cell_type": "code",
   "execution_count": 27,
   "metadata": {},
   "outputs": [
    {
     "name": "stdout",
     "output_type": "stream",
     "text": [
      "no es domingo\n"
     ]
    }
   ],
   "source": [
    "#conditionals\n",
    "week_day = input(\"day:\")\n",
    "if week_day == \"domingo\":\n",
    "    print(\"voy a la playa\")\n",
    "\n",
    "elif week_day == \"martes\":\n",
    "    print (\"duermo\")\n",
    "\n",
    "elif week_day == \"maiercoles\":\n",
    "    print (\"duermo\")\n",
    "\n",
    "else:\n",
    "    print(\"no es domingo\")"
   ]
  },
  {
   "cell_type": "code",
   "execution_count": 31,
   "metadata": {},
   "outputs": [
    {
     "name": "stdout",
     "output_type": "stream",
     "text": [
      "duermo\n"
     ]
    }
   ],
   "source": [
    "#conditionals anidados\n",
    "week_day = input(\"day:\")\n",
    "hora_aprox = input (\"hora estimada:\")\n",
    "\n",
    "if week_day == \"lunes\":\n",
    "    if hora_aprox == \"mañana\":\n",
    "        print(\"lunes en la mañana\")\n",
    "    elif hora_aprox == \"tarde\":\n",
    "        print (\"lunes en la tarde\")\n",
    "    else:\n",
    "        print(\"lunes en la noche\")\n",
    "\n",
    "elif week_day == \"martes\":\n",
    "    print (\"duermo\")\n",
    "\n",
    "elif week_day == \"maiercoles\":\n",
    "    print (\"duermo\")\n",
    "\n",
    "else:\n",
    "    print(\"no es domingo\")"
   ]
  },
  {
   "cell_type": "code",
   "execution_count": 33,
   "metadata": {},
   "outputs": [
    {
     "name": "stdout",
     "output_type": "stream",
     "text": [
      "[1, 2, 3, 4, 5, 6]\n"
     ]
    }
   ],
   "source": [
    "numbers_list = [1, 2, 3, 4, 5, 6]\n",
    "print( numbers_list)"
   ]
  },
  {
   "cell_type": "code",
   "execution_count": 55,
   "metadata": {},
   "outputs": [],
   "source": [
    "letters_list = [\"A\", \"B\", \"C\", \"D\"]"
   ]
  },
  {
   "cell_type": "code",
   "execution_count": 50,
   "metadata": {},
   "outputs": [
    {
     "data": {
      "text/plain": [
       "'A'"
      ]
     },
     "execution_count": 50,
     "metadata": {},
     "output_type": "execute_result"
    }
   ],
   "source": [
    "letters[0]"
   ]
  },
  {
   "cell_type": "code",
   "execution_count": 52,
   "metadata": {},
   "outputs": [
    {
     "data": {
      "text/plain": [
       "'C'"
      ]
     },
     "execution_count": 52,
     "metadata": {},
     "output_type": "execute_result"
    }
   ],
   "source": [
    "letters[2]"
   ]
  },
  {
   "cell_type": "code",
   "execution_count": 54,
   "metadata": {},
   "outputs": [
    {
     "data": {
      "text/plain": [
       "['A', 'C']"
      ]
     },
     "execution_count": 54,
     "metadata": {},
     "output_type": "execute_result"
    }
   ],
   "source": [
    "#start:stop (esto es para hacer saltos)\n",
    "letters[0:3:2]"
   ]
  },
  {
   "cell_type": "code",
   "execution_count": null,
   "metadata": {},
   "outputs": [],
   "source": [
    "#ciclos\n",
    "for letters in letters_list:\n",
    "    if letters == letra_busqueda: \n"
   ]
  }
 ],
 "metadata": {
  "kernelspec": {
   "display_name": "Python 3",
   "language": "python",
   "name": "python3"
  },
  "language_info": {
   "codemirror_mode": {
    "name": "ipython",
    "version": 3
   },
   "file_extension": ".py",
   "mimetype": "text/x-python",
   "name": "python",
   "nbconvert_exporter": "python",
   "pygments_lexer": "ipython3",
   "version": "3.12.2"
  }
 },
 "nbformat": 4,
 "nbformat_minor": 2
}
